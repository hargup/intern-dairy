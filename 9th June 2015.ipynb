{
 "cells": [
  {
   "cell_type": "markdown",
   "metadata": {},
   "source": [
    "My current approch is to dependend on `conda-skeleton`, `conda-build` and `pip-build` to automatically create a list of packages and create a report system which makes it easy the problems with these three so that more and more packages can be built automatically. So ideally if these three are perfect then all the packages will be there other packages will have build by handany way. Now the current problem is to actually deploy the system so that continuum can use it:\n",
    "- It should have an option a single package\n",
    "- An indenpendent script should be created to make a list of package that needs to update\n",
    "- Another scripts generates that list and run the program to update packages.\n",
    "\n",
    "* * *\n",
    "\n",
    "Today I worked on improving the `build_from_pypi` script and it is almost complete, I'll aim at deploying the script."
   ]
  }
 ],
 "metadata": {
  "kernelspec": {
   "display_name": "Python 2",
   "language": "python",
   "name": "python2"
  },
  "language_info": {
   "codemirror_mode": {
    "name": "ipython",
    "version": 2
   },
   "file_extension": ".py",
   "mimetype": "text/x-python",
   "name": "python",
   "nbconvert_exporter": "python",
   "pygments_lexer": "ipython2",
   "version": "2.7.10"
  }
 },
 "nbformat": 4,
 "nbformat_minor": 0
}
