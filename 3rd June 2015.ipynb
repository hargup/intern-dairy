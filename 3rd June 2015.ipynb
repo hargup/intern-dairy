{
 "cells": [
  {
   "cell_type": "markdown",
   "metadata": {},
   "source": [
    "_Wednesday 3rd June 11:00 am IST_\n",
    "\n",
    "I was on a leave on Monday and Tuesday because I had to travel to Delhi to the visa application process. Earlier I was in Bangalore at a friends place now I'm back in home at Amethi.\n",
    "\n",
    "## TODO:\n",
    "\n",
    "- Submit the `tests_requires` patch [DONE]\n",
    "- Build packages with `no-arch` option"
   ]
  },
  {
   "cell_type": "markdown",
   "metadata": {},
   "source": []
  }
 ],
 "metadata": {
  "kernelspec": {
   "display_name": "Python 2",
   "language": "python",
   "name": "python2"
  },
  "language_info": {
   "codemirror_mode": {
    "name": "ipython",
    "version": 2
   },
   "file_extension": ".py",
   "mimetype": "text/x-python",
   "name": "python",
   "nbconvert_exporter": "python",
   "pygments_lexer": "ipython2",
   "version": "2.7.10"
  }
 },
 "nbformat": 4,
 "nbformat_minor": 0
}
