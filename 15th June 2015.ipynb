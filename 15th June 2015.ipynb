{
 "cells": [
  {
   "cell_type": "markdown",
   "metadata": {},
   "source": [
    "I today I mainly worked on refactoring the `conda-skeleton`, I factored out large chunks of code to smaller blocks. One of my aims is to modify the code as to remove the need to create the whole recipe just to find the dependencies.\n",
    "\n",
    "I also want to parallelize the build process so that it runs faster. For that I'll have to remove the lock, that is a minor issue the major issue that build processes might conflicts if they are trying to build the same package, and that might happen because dependies are build first and that problem can be easily fixed by creating the dependecy graph of the packages we need to build, each disconnected subgraph can be build parrallely then I'll build the packages level by level. I need to refine this concept a little more."
   ]
  }
 ],
 "metadata": {
  "kernelspec": {
   "display_name": "Python 2",
   "language": "python",
   "name": "python2"
  },
  "language_info": {
   "codemirror_mode": {
    "name": "ipython",
    "version": 2
   },
   "file_extension": ".py",
   "mimetype": "text/x-python",
   "name": "python",
   "nbconvert_exporter": "python",
   "pygments_lexer": "ipython2",
   "version": "2.7.10"
  }
 },
 "nbformat": 4,
 "nbformat_minor": 0
}
