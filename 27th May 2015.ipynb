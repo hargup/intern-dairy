{
 "cells": [
  {
   "cell_type": "markdown",
   "metadata": {},
   "source": [
    "_(written on 29th May)_\n",
    "\n",
    "This I found another bug with skeleton, it implicitly assumes that package name is same module name and\n",
    "adds an import test for that, it is not necessarily the case. Examples: the package `dnspython` installs a module named `dns` and the package `factory_boy` installs the package factory. The earier behavior was causing build failures for such packages. I sent a [pull request](https://github.com/conda/conda-build/pull/421) and it was merged on Thursday.\n",
    "Later in the day I read PEP 426 [1] and PEP 440 [2]. PEP 426 [1] aims to create a metadata standard for Python Packages and PEP 440 [2] defines a scheme for version number and dependency identification.\n",
    "\n",
    "[1]: https://www.python.org/dev/peps/pep-0426\n",
    "[2]: https://www.python.org/dev/peps/pep-0440/\n"
   ]
  }
 ],
 "metadata": {
  "kernelspec": {
   "display_name": "Python 3",
   "language": "python",
   "name": "python3"
  },
  "language_info": {
   "codemirror_mode": {
    "name": "ipython",
    "version": 3
   },
   "file_extension": ".py",
   "mimetype": "text/x-python",
   "name": "python",
   "nbconvert_exporter": "python",
   "pygments_lexer": "ipython3",
   "version": "3.4.3"
  }
 },
 "nbformat": 4,
 "nbformat_minor": 0
}
