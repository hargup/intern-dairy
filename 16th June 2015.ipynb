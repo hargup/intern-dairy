{
 "cells": [
  {
   "cell_type": "markdown",
   "metadata": {},
   "source": [
    "* Today I'll take on major refactoring of conda-skeleton to simplify pipbuild. Then I'll go ahead and try to parallelize the `build_from_pypi` code. An advice: Don't be afraid to break things, change skeleton the way you want.\n",
    "\n",
    "* * *\n",
    "\n",
    "Okay now I'm wrapping up the project, there are a few things I need to do:\n",
    "\n",
    "* Add a cron-job and fetch changelog from PyPI\n",
    "* Add option to upload pacakges to binstar\n",
    "* Create report after every new 100 packages.\n",
    "\n",
    "* * *\n",
    "\n",
    "From tomorrow onwards I'll work on Numba yay!"
   ]
  }
 ],
 "metadata": {
  "kernelspec": {
   "display_name": "Python 3",
   "language": "python",
   "name": "python3"
  },
  "language_info": {
   "codemirror_mode": {
    "name": "ipython",
    "version": 3
   },
   "file_extension": ".py",
   "mimetype": "text/x-python",
   "name": "python",
   "nbconvert_exporter": "python",
   "pygments_lexer": "ipython3",
   "version": "3.4.3"
  }
 },
 "nbformat": 4,
 "nbformat_minor": 0
}
