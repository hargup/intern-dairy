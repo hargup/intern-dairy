{
 "cells": [
  {
   "cell_type": "markdown",
   "metadata": {},
   "source": [
    "### TODO\n",
    "\n",
    "* Run the `xmlrpc` server on the mirror and create download statistics. [DONE]\n",
    "* Create the dependecy graph. [NOT DONE]\n",
    "* Build Packages for the 10 most popular packages. [NOT DONE]\n",
    "\n",
    "* * *"
   ]
  },
  {
   "cell_type": "markdown",
   "metadata": {},
   "source": [
    "`bandersnatch` apparantly has code to run `xmlrpc` server but I'm not able to use it, so I opened an [issue](https://bitbucket.org/pypa/bandersnatch/issue/60/cannot-use-xmlrpc). I also asked a [question on SO](http://stackoverflow.com/questions/30298024/run-xmlrpc-server-on-local-pypi-mirror).\n",
    "\n",
    "* Later I wrote a more formal discription of the problem I'm trying to solve and its approaches at https://docs.google.com/document/d/1eQ0SqlSyGPjt-82_yE21AbyBItUBpLReFN_w5Vwleu4/\n",
    "\n",
    "* I also wrote the download stats script using `xmlrpc` service of PyPI"
   ]
  }
 ],
 "metadata": {
  "kernelspec": {
   "display_name": "Python 2",
   "language": "python",
   "name": "python2"
  },
  "language_info": {
   "codemirror_mode": {
    "name": "ipython",
    "version": 2
   },
   "file_extension": ".py",
   "mimetype": "text/x-python",
   "name": "python",
   "nbconvert_exporter": "python",
   "pygments_lexer": "ipython2",
   "version": "2.7.12"
  }
 },
 "nbformat": 4,
 "nbformat_minor": 0
}
