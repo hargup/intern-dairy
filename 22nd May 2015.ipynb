{
 "cells": [
  {
   "cell_type": "markdown",
   "metadata": {},
   "source": [
    "Today I worked to classify type of error logs. I wrote simple `regex` like these:\n",
    "\n",
    "```python\n",
    "def has_missing_dependency(log):\n",
    "    p = re.compile(\"ImportError:\")\n",
    "    return any([re.match(p, line) for line in log])\n",
    "```\n",
    "\n",
    "and then labelled the failures and then counted number of failures in each categories. Here are the results, out of 500 recipes build we failed at 174 of them.\n",
    "\n",
    "```\n",
    "No recipe available: 21/174\n",
    "\n",
    "No packages found in current linux-64 channels: 30/174\n",
    "\n",
    "missing build dependency: 54/174\n",
    "\n",
    "test failure: missing dependency: 37/174\n",
    "\n",
    "test failure: other reasons: 14/174\n",
    "\n",
    "invalid syntax: 4/174\n",
    "\n",
    "unclassified: 14/174\n",
    "```"
   ]
  },
  {
   "cell_type": "markdown",
   "metadata": {},
   "source": [
    "* * *\n",
    "\n",
    "Classifying the logs brought more structure to the problem, now I know which type of error to target first. Then step by I can take all, rather most of them. This is the reductionist approach, \"b"
   ]
  }
 ],
 "metadata": {
  "kernelspec": {
   "display_name": "Python 2",
   "language": "python",
   "name": "python2"
  },
  "language_info": {
   "codemirror_mode": {
    "name": "ipython",
    "version": 2
   },
   "file_extension": ".py",
   "mimetype": "text/x-python",
   "name": "python",
   "nbconvert_exporter": "python",
   "pygments_lexer": "ipython2",
   "version": "2.7.9"
  }
 },
 "nbformat": 4,
 "nbformat_minor": 0
}
