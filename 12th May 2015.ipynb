{
 "cells": [
  {
   "cell_type": "markdown",
   "metadata": {},
   "source": [
    "_Tue 12th May 2015 IST_\n",
    "\n",
    "Yesterday I wrote python script to automatically create conda recipes from PyPI and then build. But my aim is to build it for all the packages, and I expect to find some crazy senarios, where the build process can fail. Few of the know reasons are:\n",
    "\n",
    "* When the package is pure python, _in theory_ conda can build packages for all the dependencies, the problem is when it is not pure python, I have to figure out a way to determine if the package is pure python or not.\n",
    "\n",
    "* Sometimes `conda-skeleton` chooses wrong package name for the dependencies and it makes `conda-build` go into an infinite loop. I have to figure out why, `conda` chooses the wrong name. Example: Try building conda-package for [coursera](https://github.com/coursera-dl/coursera) from the recipe created by `conda-skeleton`.\n",
    "\n",
    "* * *"
   ]
  },
  {
   "cell_type": "markdown",
   "metadata": {},
   "source": [
    "* **conda-skeleton** doesn't take care of circular dependcies and this may cause it to go into an infinite loop. I reported a bug at (https://github.com/conda/conda-build/issues/402)\n",
    "\n",
    "* Sent a pull request https://github.com/conda/conda-build/pull/403"
   ]
  }
 ],
 "metadata": {
  "kernelspec": {
   "display_name": "Python 2",
   "language": "python",
   "name": "python2"
  },
  "language_info": {
   "codemirror_mode": {
    "name": "ipython",
    "version": 2
   },
   "file_extension": ".py",
   "mimetype": "text/x-python",
   "name": "python",
   "nbconvert_exporter": "python",
   "pygments_lexer": "ipython2",
   "version": "2.7.9"
  }
 },
 "nbformat": 4,
 "nbformat_minor": 0
}
