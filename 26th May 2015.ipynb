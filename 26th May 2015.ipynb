{
 "cells": [
  {
   "cell_type": "markdown",
   "metadata": {},
   "source": [
    "_(Written on 29th May)_\n",
    "\n",
    "On this day I was investigating the reason for import test failures in the packages we were trying to build using `conda-build`, I found out that a few packages like `fabric` have specified `tests_requires` in their `setup.py` and conda-skeleton was not taking care of that.\n",
    "Like monday I tried to patch the distutils patch but for some reason it did not work out. I'll have a look at it again, that I had a nasty little headache, not a severe one but kind of one that doesn't yet you think. So I watching PyCon vidoes:, I watched [Beyond PEP8: best practices for writing intelligible code](https://www.youtube.com/watch?v=wf-BqAjZb8M). In video he talked how PEP8 is great but focusing too much on it can make the gorrilla invisible, that is it can take our attention from the reason problem, the problem of p vs np. And this is not the problem of computation complexity but of Pythonic vs Non Pythonic. Some of his tips were:\n",
    "\n",
    "- Factor out boiler plate code in the context managers and other pythonic contructs.\n",
    "- Use meaningful variable names\n",
    "- Use keyword argument to convey information about the parameters being passed.\n",
    "- Use Named Tuples"
   ]
  }
 ],
 "metadata": {
  "kernelspec": {
   "display_name": "Python 3",
   "language": "python",
   "name": "python3"
  },
  "language_info": {
   "codemirror_mode": {
    "name": "ipython",
    "version": 3
   },
   "file_extension": ".py",
   "mimetype": "text/x-python",
   "name": "python",
   "nbconvert_exporter": "python",
   "pygments_lexer": "ipython3",
   "version": "3.4.3"
  }
 },
 "nbformat": 4,
 "nbformat_minor": 0
}
