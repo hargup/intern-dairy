{
 "cells": [
  {
   "cell_type": "markdown",
   "metadata": {},
   "source": [
    "### TODO\n",
    "\n",
    "* Mirror PyPI [DONE]\n",
    "* Build Dependency graph [NOT DONE]\n",
    "* Write a Talk Proposal for PyCon India (https://docs.google.com/document/d/1cZZdIyOXZRGBYFXPxy-LpBBPEIORjSjsDHQD5Q1Tlhg/edit) [NOT DONE]\n",
    "\n",
    "* * *"
   ]
  },
  {
   "cell_type": "markdown",
   "metadata": {},
   "source": [
    "* The Mirror was completed the total size of the mirror was around 150 GB.\n",
    "* To Build the Dependency graph, conda-skeleton downloads the package, tries to run setup.py and see what package is missing. I definitely need to do something smarter. BTW there have been some attempts to build dependecy graph of PyPI, [like this](https://ogirardot.wordpress.com/2013/01/05/state-of-the-pythonpypi-dependency-graph/). But the author build dependecy using the `install_requires` in `setup.py` but the problem is not that often not all dependencies are mentioned in `install_requires`, well I don't know if I can do any better. Before going with the dependency graph I'll create the download statistics.\n",
    "* I was also able to use `conda-skeleton` from my local `PyPI` mirror because I couldn't make `xmlrpc` requests to the mirror. I'll probably have to run the `PyPI` server on the mirror, there should be one available publically. "
   ]
  }
 ],
 "metadata": {
  "kernelspec": {
   "display_name": "Python 3",
   "language": "python",
   "name": "python3"
  },
  "language_info": {
   "codemirror_mode": {
    "name": "ipython",
    "version": 3
   },
   "file_extension": ".py",
   "mimetype": "text/x-python",
   "name": "python",
   "nbconvert_exporter": "python",
   "pygments_lexer": "ipython3",
   "version": "3.4.3"
  }
 },
 "nbformat": 4,
 "nbformat_minor": 0
}
