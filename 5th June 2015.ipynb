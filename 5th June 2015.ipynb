{
 "cells": [
  {
   "cell_type": "markdown",
   "metadata": {},
   "source": [
    "I've been building packages on `linux-64` for almost a month and now I need to build pacakages on the no-arch enviornment. I also need to improve the report to be prettier and more comprehensible, at the same time I want to improve the build process so that I can save time on the build process and spend more time in experimentation.\n",
    "\n",
    "## TODO:\n",
    "\n",
    "- Add option to build pacakges as `noarch_python`https://github.com/conda/conda-build/pull/439\n",
    "- Fix issue https://github.com/conda/conda-build/issues/429\n",
    "\n",
    "* * *\n",
    "\n",
    "_(00:14 am 6th June IST)_\n",
    "\n",
    "I'm not at all statisfied with my work, I slept a lot in the day and even rest of the time was too distracted, though I did small amount of work but that was trivial. One of the reasons is I'm kinda bored and the second reason is I don't clearly see where do I need to go. I need to go in a more methodological way, so tomorrow I'll rewamp the plan and get things right.\n",
    "\n",
    "Things for tomorrow,\n",
    "\n",
    "* Score conda-skeleton and report its problem\n",
    "* Fix `noarch` build and work on its issues"
   ]
  }
 ],
 "metadata": {
  "kernelspec": {
   "display_name": "Python 2",
   "language": "python",
   "name": "python2"
  },
  "language_info": {
   "codemirror_mode": {
    "name": "ipython",
    "version": 2
   },
   "file_extension": ".py",
   "mimetype": "text/x-python",
   "name": "python",
   "nbconvert_exporter": "python",
   "pygments_lexer": "ipython2",
   "version": "2.7.10"
  }
 },
 "nbformat": 4,
 "nbformat_minor": 0
}
