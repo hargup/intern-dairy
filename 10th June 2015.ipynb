{
 "cells": [
  {
   "cell_type": "markdown",
   "metadata": {},
   "source": [
    "I was using `pandoc` to convert markdown files to html but it was very plain and I wanted to something pretty and more like the one used by github. Some googling took me to grip[1] and it works like a charm. I also discovered that PyPI's xmlrpc interface already provides a download a list of top `n` packages sorted by the number of downloads and there was no need to spend so much time with packages like vanity. PyPI's xmlrpc interface also provides methods to download changelogs given a timestamp so deploying the script shouldn't be too much work.\n",
    "\n",
    "\n",
    "[1]: https://github.com/joeyespo/grip \n",
    "\n",
    "* * *\n",
    "\n",
    "Warehouse by the description on the repo \"Next Generation Python Package Repository\", it will eventually replace PyPI and I feel I should also help them out."
   ]
  }
 ],
 "metadata": {
  "kernelspec": {
   "display_name": "Python 3",
   "language": "python",
   "name": "python3"
  },
  "language_info": {
   "codemirror_mode": {
    "name": "ipython",
    "version": 3
   },
   "file_extension": ".py",
   "mimetype": "text/x-python",
   "name": "python",
   "nbconvert_exporter": "python",
   "pygments_lexer": "ipython3",
   "version": "3.4.3"
  }
 },
 "nbformat": 4,
 "nbformat_minor": 0
}
