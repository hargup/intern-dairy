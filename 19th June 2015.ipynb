{
 "cells": [
  {
   "cell_type": "markdown",
   "metadata": {},
   "source": [
    "Today I need to finish the inplace operator PR. Yesterday I experimented with the `register_binary_operator_kernel`  function code by passing the third `output` argument as same as the first argument and it worked, yeah so for the first implementation I just need to call it like that.\n",
    "\n",
    "_(The inplace operator call makes a lot of assignments and recasting which it doesn't need to do)_\n",
    "\n",
    "```\n",
    "-----------------------------IR DUMP: inplace_add_5-----------------------------\n",
    "label 0:\n",
    "    x = arg(0, name=x)                       ['x']\n",
    "    $const0.2 = const(int, 5)                ['$const0.2']\n",
    "    $0.3 = inplace_binop(rhs=$const0.2, lhs=x, fn=+) ['$0.3', '$const0.2', 'x']\n",
    "    del x                                    []\n",
    "    del $const0.2                            []\n",
    "    x.1 = $0.3                               ['$0.3', 'x.1']\n",
    "    del x.1                                  []\n",
    "    del $0.3                                 []\n",
    "    $const0.4 = const(NoneType, None)        ['$const0.4']\n",
    "    $0.5 = cast(value=$const0.4)             ['$0.5', '$const0.4']\n",
    "    del $const0.4                            []\n",
    "    return $0.5                              ['$0.5']\n",
    "```"
   ]
  },
  {
   "cell_type": "markdown",
   "metadata": {},
   "source": [
    "* * *\n",
    "\n",
    "The functions `register_binary_operator_kernel` and other such functions creates a registry entry to map operators with \n",
    "\n",
    "\n",
    "Okay ... the expression of the inplace operator is `inplace_binop(rhs=$const0.2, fn=+, lhs=x)` so the function it really takes in the this `+` operator, I tried some crude way to map it `inplace_kernel` but it is kind of not working out properly, first because the signature of both the `+` and `+=` is turing out to be the same"
   ]
  },
  {
   "cell_type": "markdown",
   "metadata": {},
   "source": [
    "* * *\n",
    "Okay in the afternoon I was successful in getting my code work, in the middle I was getting a strange error on futher investigation I noticed that code had\n",
    "```python\n",
    "args = args.append(args[0])\n",
    "```\n",
    "The problem here is that `append` returns `None` -_-.\n",
    "\n",
    "Now, the way numba works is that it creates a mapping of `signature` + `function` to a kernel operation. In the python to IR conversion step it converts `+=` to `inplace_binop(rhs=$const0.2, fn=+, lhs=x)` and here the operator is `inplace_binop` but the function is `+`, so the it basically get maped to the same kernel operator as that of binary `+`. To circumvent this problem I created a diffent maps for `+=` like things and then I when I detected `inplace_binonp` I modified `+` to `+=`. In the inplace operation I modified code to make the output variable same as the first input variable. But mutating the IR is rather crude and the reviewer asked to find some other method instead."
   ]
  }
 ],
 "metadata": {
  "kernelspec": {
   "display_name": "Python 3",
   "language": "python",
   "name": "python3"
  },
  "language_info": {
   "codemirror_mode": {
    "name": "ipython",
    "version": 3
   },
   "file_extension": ".py",
   "mimetype": "text/x-python",
   "name": "python",
   "nbconvert_exporter": "python",
   "pygments_lexer": "ipython3",
   "version": "3.4.3"
  }
 },
 "nbformat": 4,
 "nbformat_minor": 0
}
