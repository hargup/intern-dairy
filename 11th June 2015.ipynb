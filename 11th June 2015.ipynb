{
 "cells": [
  {
   "cell_type": "markdown",
   "metadata": {},
   "source": [
    "### TODO\n",
    "* Fix https://github.com/conda/conda-build/issues/444 [DONE]\n",
    "\n",
    "* * *\n",
    "\n",
    "Pipbuild\n",
    "---------\n",
    "\n",
    "* pipbuild makes runs the shell command for `conda-skeleton` wouldn't it be better if we import these as functions from skeleton and then run it to remove the extra step of going through shell\n",
    "\n",
    "\n",
    "The basic workflow of `pipbuild` is:\n",
    "\n",
    "1. Create a standard recipe which installs package by `pip`\n",
    "2. Build all the dependencies using the same process\n",
    "3. Build the package.\n",
    "\n",
    "Step 1. is completed in two ways:\n",
    "\n",
    "1. Create a recipe by `conda-skeleton`, convert the recipe to keep only the necessary information, replace `$PYTHON setup.py install` with `pip install <package_name>`, get a list of dependencies from meta data.\n",
    "2. Get dependencies using the `pkg_resources` module, get other information about the package from PyPI's xmlrpc interface.\n",
    "\n",
    "`pipbuild` essentially uses `conda-skeleton` to get the dependencies it is likely that I'll be able to factor out that part of `skeleton` and call that function in `pipbuild`"
   ]
  }
 ],
 "metadata": {
  "kernelspec": {
   "display_name": "Python 3",
   "language": "python",
   "name": "python3"
  },
  "language_info": {
   "codemirror_mode": {
    "name": "ipython",
    "version": 3
   },
   "file_extension": ".py",
   "mimetype": "text/x-python",
   "name": "python",
   "nbconvert_exporter": "python",
   "pygments_lexer": "ipython3",
   "version": "3.4.3"
  }
 },
 "nbformat": 4,
 "nbformat_minor": 0
}
