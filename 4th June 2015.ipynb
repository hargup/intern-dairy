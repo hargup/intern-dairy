{
 "cells": [
  {
   "cell_type": "markdown",
   "metadata": {},
   "source": [
    "## TODO\n",
    "\n",
    "- Try out the pip build process\n",
    "- Find out other types of errors in pip-build process\n",
    "- Run the package building process with `no-arch` option\n",
    "\n",
    "* * *\n",
    "\n",
    "`pipbuild` builds the package by pip installing it and then collecting the binary. One very good thing that I see with `pipbuild` is that I can specify the pip url, so can I use the local pypi mirror I created a few weeks ago and complete the task pretty fast. The problem is I don't see any option to specify noarch in `pipbuild`. That should work for now. If it works well I try to remove the lock and parallyze the `pipbuild` so that the process can be completed really fast.\n",
    "\n",
    "* * *\n",
    " \n",
    " \n",
    "* If the package is present in the build directory `conda-build` exists without message, which left me wondering if it was really successful or not. [FIX IT]\n",
    "\n",
    "    I added a little code to the little `build_from_pypi.py` script to build failed pacakges using `pipbuild` but I don't wanna add another column to the existing table, so instead of `True` in `build` column I wrote` PIPBUILD PASS`. It is pretty dirty now, probably I should log `pipbuilds` in a seperate file instead of `{package_name}_build.log`. Another problem is that it kinda fails if the package already exists in build directory, which is good thing in the sense that we don't need to do anything anymore but I gotta handle it better."
   ]
  },
  {
   "cell_type": "markdown",
   "metadata": {},
   "source": [
    "* * *\n",
    "\n",
    "Tried out `pipbuild` approach and it working correctly for most of the packages, my current approach is to first try to build the pacakage using `skeleton` and `build` but if it fails I'm trying the `pipbuild` process.\n"
   ]
  }
 ],
 "metadata": {
  "kernelspec": {
   "display_name": "Python 2",
   "language": "python",
   "name": "python2"
  },
  "language_info": {
   "codemirror_mode": {
    "name": "ipython",
    "version": 2
   },
   "file_extension": ".py",
   "mimetype": "text/x-python",
   "name": "python",
   "nbconvert_exporter": "python",
   "pygments_lexer": "ipython2",
   "version": "2.7.12"
  }
 },
 "nbformat": 4,
 "nbformat_minor": 0
}
