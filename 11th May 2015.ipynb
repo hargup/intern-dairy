{
 "cells": [
  {
   "cell_type": "markdown",
   "metadata": {},
   "source": [
    "# Replacing Shell Scipt with Python"
   ]
  },
  {
   "cell_type": "markdown",
   "metadata": {},
   "source": [
    "_Mon 11 May 17:03 IST_\n",
    "\n",
    "Hi,\n",
    "\n",
    "This is the first entry in my intern diary, I'm interning at [Continuum Analytics](http://continuum.io/) a software company based in Austin, USA. I was supposed to be at Austin office but due to visa issues I couldn't travel to US. Hence I'm working remotely.\n",
    "\n",
    "I've been give a project a automatically build Python packages from the [Python Package Index](pypi.python.org) for Continuum's Python agnostic cross platform package manager [conda](http://conda.pydata.org/). I started my intern last monday and last week:\n",
    "* I learned shell scripting and wrote little shell scripts to automatically create `conda recipes` using `conda-skeleton`.\n",
    "* learned about some of its internals of `conda build` and fixed a [little bug](https://github.com/conda/conda-build/pull/392)\n",
    "* Wrote a script to get download statistics from `PyPI` using `vanity`\n",
    "* got an AWS instance and created recipes of some 33 thousand packages from 59 thousand packages on PyPI of which the recipe creation process failed for some seven thousand packages. In the process also learned about [screen](https://www.gnu.org/software/screen/) so that I can run processes on remote server with a fear of disconnection from my end.\n",
    "\n",
    "I have not analyzed every failure but it appears that most of the recipes failures, `conda-skeleton` was not at fault. A lot of packages were non-existent, or there was something wrong in the `setup.py`. Today I set to analyze these failures and [listed some of the typical errors](https://github.com/ContinuumIO/pypi-conda-builds/issues/4#issuecomment-100785682). I wanted to classify package on basis of the error and really want to figure out if there is something wrong with the package or with conda-skeleton, for that I had to make additional modifications to the shell script but I was kinda disgusted from its current state. Also I was overwhelemed with the sheer number packages, so I first wrote a [script to randomly select `n` number of packages](https://github.com/ContinuumIO/pypi-conda-builds/blob/master/choose_rand_packages.py) from a list of packages and then rewrote the shell script in python. In the process I learned the [argparse](https://docs.python.org/dev/library/argparse.html) and the [subprocess](https://docs.python.org/dev/library/argparse.html). I was impressed by the ease of using `argparse`."
   ]
  }
 ],
 "metadata": {
  "kernelspec": {
   "display_name": "Python 3",
   "language": "python",
   "name": "python3"
  },
  "language_info": {
   "codemirror_mode": {
    "name": "ipython",
    "version": 3
   },
   "file_extension": ".py",
   "mimetype": "text/x-python",
   "name": "python",
   "nbconvert_exporter": "python",
   "pygments_lexer": "ipython3",
   "version": "3.4.3"
  }
 },
 "nbformat": 4,
 "nbformat_minor": 0
}
