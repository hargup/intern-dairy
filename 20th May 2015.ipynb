{
 "cells": [
  {
   "cell_type": "markdown",
   "metadata": {},
   "source": [
    "I'm somewhat going round and round, first I wrote a shell script with plain txt files. Then I felt that shell script are not flexible enough so I wrote a python script for the work. Then I felt need more extensiblity than plain txt files go now I'm using YAML. I have made few small improvements in `conda-skeleton`. I want to track how each change improve my performance and hence I need a report card.\n",
    "The should be something like this:"
   ]
  },
  {
   "cell_type": "markdown",
   "metadata": {},
   "source": [
    "|Package|Recipe|Recipe log|Build|Build log|\n",
    "|-------|:-----|:---------|:----|:--------|\n",
    "|setuptools|True|[setuptools_recipe.log](setuptools_recipe.log)|False|[setuptool_build.log](setuptool_build.log)|\n",
    "\n",
    "```\n",
    "Score:\n",
    "Recipe: 1/1\n",
    "Build: 0/1\n",
    "```\n",
    "```\n",
    "Using Anaconda: True\n",
    "Build Time: 12:30 20th May 2015 (IST)\n",
    "```"
   ]
  },
  {
   "cell_type": "markdown",
   "metadata": {},
   "source": [
    "* * *\n",
    "\n",
    "_23:49 20th May_\n",
    "\n",
    "Yeah, building the reports was a great idea. Now the problems feels much more tractable. Each of the `True` or `False` in the recipe and build column is linked to the log. I was checking out the logs and most of the packages were failing due to or two missing dependency in the `meta.yaml`, I need to fix that. I'll try to parse the log file and build them, also I need to add option to only build the failing recipes again. Then if I'm left with other error I think I should first write a code to classify the error and list how many packages fall under that category.\n"
   ]
  },
  {
   "cell_type": "markdown",
   "metadata": {},
   "source": [
    "\n",
    "|package|recipe|build|anaconda|\n",
    "|-------|:-----|:----|:-------|\n",
    "|simplejson|[True](./logs/simplejson_recipe.log)|[True](./logs/simplejson_build.log)|False|\n",
    "|setuptools|[True](./logs/setuptools_recipe.log)|[True](./logs/setuptools_build.log)|True|\n",
    "|Mako|[False](./logs/Mako_recipe.log)|[False](./logs/Mako_build.log)|False|\n",
    "|.|.|.|.|\n",
    "|ipython|[True](./logs/ipython_recipe.log)|[True](./logs/ipython_build.log)|True|\n",
    "\n",
    "recipe score: 94/100\n",
    "\n",
    "\n",
    "build score: 77/100\n"
   ]
  },
  {
   "cell_type": "markdown",
   "metadata": {},
   "source": [
    "\n",
    "Btw in the morning I somewhat struggled with `subprocess`, there is `call` and `Popen`. From my current understanding `call` executes the command and returns the status while `Popen` runs the process in background, hence `Popen` gives methods like `poll`, `kill`, `pid` etc. Both has keywords arguments `stdout` and `stderr` which takes file as an input. I wanted to get the output and error as strings. `Popen` has a method named `communicate` which returns the output of the command and the error and takes the input to the command, but everytime I was getting none because the command was already before I could run `communicate` so I used `call` with something like this:\n",
    "\n",
    "```python\n",
    "err = subprocess.call(shlex.split(cmd), stdout=log_file,stderr=subprocess.STDOUT)\n",
    "```\n"
   ]
  }
 ],
 "metadata": {
  "kernelspec": {
   "display_name": "Python 2",
   "language": "python",
   "name": "python2"
  },
  "language_info": {
   "codemirror_mode": {
    "name": "ipython",
    "version": 2
   },
   "file_extension": ".py",
   "mimetype": "text/x-python",
   "name": "python",
   "nbconvert_exporter": "python",
   "pygments_lexer": "ipython2",
   "version": "2.7.9"
  }
 },
 "nbformat": 4,
 "nbformat_minor": 0
}
