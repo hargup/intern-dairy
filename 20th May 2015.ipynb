{
 "cells": [
  {
   "cell_type": "markdown",
   "metadata": {},
   "source": [
    "I'm somewhat going round and round, first I wrote a shell script with plain txt files. Then I felt that shell script are not flexible enough so I wrote a python script for the work. Then I felt need more extensiblity than plain txt files go now I'm using YAML. I have made few small improvements in `conda-skeleton`. I want to track how each change improve my performance and hence I need a report card.\n",
    "The should be something like this:"
   ]
  },
  {
   "cell_type": "markdown",
   "metadata": {},
   "source": [
    "|Package|Recipe|Recipe log|Build|Build log|\n",
    "|-------|:-----|:---------|:----|:--------|\n",
    "|setuptools|True|[setuptools_recipe.log](setuptools_recipe.log)|False|[setuptool_build.log](setuptool_build.log)|\n",
    "\n",
    "```\n",
    "Score:\n",
    "Recipe: 1/1\n",
    "Build: 0/1\n",
    "```\n",
    "```\n",
    "Using Anaconda: True\n",
    "Build Time: 12:30 20th May 2015 (IST)\n",
    "```"
   ]
  }
 ],
 "metadata": {
  "kernelspec": {
   "display_name": "Python 2",
   "language": "python",
   "name": "python2"
  },
  "language_info": {
   "codemirror_mode": {
    "name": "ipython",
    "version": 2
   },
   "file_extension": ".py",
   "mimetype": "text/x-python",
   "name": "python",
   "nbconvert_exporter": "python",
   "pygments_lexer": "ipython2",
   "version": "2.7.9"
  }
 },
 "nbformat": 4,
 "nbformat_minor": 0
}
