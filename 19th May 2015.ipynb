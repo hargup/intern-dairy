{
 "cells": [
  {
   "cell_type": "markdown",
   "metadata": {},
   "source": [
    "* Build top 10 packages [DONE]\n",
    "    * Couldn't build `setuptools` because it depends on `setuptools`\n",
    "    * PyCrypto build couldn't complete because of runtime error\n",
    "    * Others (simpleJSON, pip) because we couldn't build JinJa2\n",
    "    * JinJa2 and some others broke because of naming errors\n",
    "    \n",
    "* Clean up pypi-conda-build\n",
    "    * Better logging methods [DONE]\n",
    "    \n",
    "      I can create a yaml file something like this\n",
    "    ```yaml\n",
    "    packages:\n",
    "        - name: setuptools\n",
    "          recipe:\n",
    "              status: True\n",
    "          build:\n",
    "              status: False\n",
    "\n",
    "        - name: sympy\n",
    "          recipe:\n",
    "              status: None\n",
    "          build:\n",
    "              status: None\n",
    "    ```\n",
    "    The value will be None if we haven't tried the operation yet, True and False depending on the status of the operation.\n",
    "    \n",
    "    * Use the `yaml` file specified above to choose which package to build and which not to build.\n",
    "        "
   ]
  },
  {
   "cell_type": "markdown",
   "metadata": {},
   "source": [
    "* * *\n",
    "\n",
    "* I cleaned up the scripted a bit, they all uses yaml files now instead of simple list of package names in a plain text file. The former files are good with simple shell one liners but with python scripts yaml provides more flexibility.\n",
    "\n",
    "*  I first tried to build top 25 packages.The script could create recipes for 24 out 25 packages, the only exception was https://github.com/conda/conda-build/issues/415. And I was successful in automatically building 17 out of 25 packages. The failures were 'setuptools', 'pip', 'PyYAML', 'MarkupSafe', 'Jinja2', 'certifi', 'pycrypto' and 'cffi' setuptools failed because it dependes on setuptools. Other packages like PyYAML and Jinja2 failed because of some issue due to name normalization, I'll look deeper into it. `pip` and `MarkupSafe` failed because they depended on Jinja2. `pycrypto` compiled correctly but it failed an import test. There the error is similar to the issue https://github.com/ContinuumIO/pypi-conda-builds/issues/1. Later Ilan told me that all these packages are part of conda package and I need not build them.\n",
    "\n",
    "* I want to build a simple report script to track the progress. I should have how many packages we were successful in building, which packages we failed to build and why. For the packages we build I can mention if it is part of anaconda."
   ]
  }
 ],
 "metadata": {
  "kernelspec": {
   "display_name": "Python 2",
   "language": "python",
   "name": "python2"
  },
  "language_info": {
   "codemirror_mode": {
    "name": "ipython",
    "version": 2
   },
   "file_extension": ".py",
   "mimetype": "text/x-python",
   "name": "python",
   "nbconvert_exporter": "python",
   "pygments_lexer": "ipython2",
   "version": "2.7.12"
  }
 },
 "nbformat": 4,
 "nbformat_minor": 0
}
