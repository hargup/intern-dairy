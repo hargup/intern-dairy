{
 "cells": [
  {
   "cell_type": "markdown",
   "metadata": {},
   "source": [
    "## TODO\n",
    "\n",
    "* Complete the PR: https://github.com/conda/conda-build/pull/405\n",
    "* FIX https://github.com/conda/conda-build/issues/402\n",
    "* FIX https://github.com/conda/conda-build/issues/393\n",
    "* Find the reason for wrong naming of some packages by `conda-skeleton`\n",
    "* Fix the wrong naming of packages by `conda-skeleton`"
   ]
  }
 ],
 "metadata": {
  "kernelspec": {
   "display_name": "Python 2",
   "language": "python",
   "name": "python2"
  },
  "language_info": {
   "codemirror_mode": {
    "name": "ipython",
    "version": 2
   },
   "file_extension": ".py",
   "mimetype": "text/x-python",
   "name": "python",
   "nbconvert_exporter": "python",
   "pygments_lexer": "ipython2",
   "version": "2.7.9"
  }
 },
 "nbformat": 4,
 "nbformat_minor": 0
}
