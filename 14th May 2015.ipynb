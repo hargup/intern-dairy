{
 "cells": [
  {
   "cell_type": "markdown",
   "metadata": {},
   "source": [
    "## TODO\n",
    "\n",
    "* Complete the PR: https://github.com/conda/conda-build/pull/405 [DONE]\n",
    "* Update Change LOG for --manual-url [DONE]\n",
    "* FIX https://github.com/conda/conda-build/issues/402 [DONE]\n",
    "* FIX https://github.com/conda/conda-build/issues/393 [PARTIALLY]\n",
    "* Find the reason for wrong naming of some packages by `conda-skeleton`\n",
    "* Fix the wrong naming of packages by `conda-skeleton`"
   ]
  },
  {
   "cell_type": "markdown",
   "metadata": {},
   "source": [
    "Our aim is to automatically create conda packages from PyPI. I wrote small independent script to utilize `conda-skeleton` and `conda-build` to automatically create conda packages, now I think I should abandon that approach and utilize the infrastructure provided by conda to complete the task, for example it already has the tools to query PyPI, access package indexes and versions etc.\n",
    "\n",
    "Mirror PyPI on the ec2 instance: will allow faster access to repositories and PyPI data. We can use following tools to do the job:\n",
    "\n",
    "* Bandersnatch\n",
    "* DevPi\n",
    "* PEP 381 client\n",
    "* PyPI-mirror by Open Stack\n",
    "* Binstar docs also has a page named “Mirroring PyPI” but I’m not sure what it does.\n",
    "* Some these packages also provides tools to automatically sync the local mirror with PyPI, which can be very helpful.\n",
    "\n",
    "\n",
    "* “Theoretically” we should be able to build all the pure python packages, non pure python packages can be problem. I plan create a dependency graph of packages, which should ideally be a tree. Then we will just need to classify the leaf packages as pure python or non pure python. This way we can create a list of package we can “aim” to build automatically. This can also be important when we cannot build the package for some important dependency, then we will already build process which packages will be affected.\n"
   ]
  }
 ],
 "metadata": {
  "kernelspec": {
   "display_name": "Python 2",
   "language": "python",
   "name": "python2"
  },
  "language_info": {
   "codemirror_mode": {
    "name": "ipython",
    "version": 2
   },
   "file_extension": ".py",
   "mimetype": "text/x-python",
   "name": "python",
   "nbconvert_exporter": "python",
   "pygments_lexer": "ipython2",
   "version": "2.7.12"
  }
 },
 "nbformat": 4,
 "nbformat_minor": 0
}
