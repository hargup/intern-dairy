{
 "cells": [
  {
   "cell_type": "markdown",
   "metadata": {},
   "source": [
    "## TODO\n",
    "\n",
    "* Complete the PR: https://github.com/conda/conda-build/pull/405 [DONE]\n",
    "* Update Change LOG for --manual-url [DONE]\n",
    "* FIX https://github.com/conda/conda-build/issues/402 [DONE]\n",
    "* FIX https://github.com/conda/conda-build/issues/393 [PARTIALLY]\n",
    "* Find the reason for wrong naming of some packages by `conda-skeleton`\n",
    "* Fix the wrong naming of packages by `conda-skeleton`"
   ]
  }
 ],
 "metadata": {
  "kernelspec": {
   "display_name": "Python 3",
   "language": "python",
   "name": "python3"
  },
  "language_info": {
   "codemirror_mode": {
    "name": "ipython",
    "version": 3
   },
   "file_extension": ".py",
   "mimetype": "text/x-python",
   "name": "python",
   "nbconvert_exporter": "python",
   "pygments_lexer": "ipython3",
   "version": "3.4.3"
  }
 },
 "nbformat": 4,
 "nbformat_minor": 0
}
