{
 "cells": [
  {
   "cell_type": "markdown",
   "metadata": {},
   "source": [
    "Today I mainly worked on https://github.com/conda/conda-build/pull/405. In the process I learned how `conda-skeleton` internally handles directories and recipes. I also discovered that there are simpler procedures used by `conda-skeleton` to download information from PyPI and I should use them in https://github.com/ContinuumIO/pypi-conda-builds. One thing I noticed is that `conda-skeleton` downloads the list of all the packages everytime recipe for some package is created and it is a major step in the process. The list of packages on `PyPI` doesn't change too quickly and we should probably cache is locally and only download the list again when something changes. To detect changes I can probably subscribe the RSS feed given on the website, (I don't know yet, how to do it). Or maybe a server by continuum can track changes and post a hash of list of some public url, when `conda-skeleton` is run it can simply check if the hash matches with the one on the server."
   ]
  }
 ],
 "metadata": {
  "kernelspec": {
   "display_name": "Python 2",
   "language": "python",
   "name": "python2"
  },
  "language_info": {
   "codemirror_mode": {
    "name": "ipython",
    "version": 2
   },
   "file_extension": ".py",
   "mimetype": "text/x-python",
   "name": "python",
   "nbconvert_exporter": "python",
   "pygments_lexer": "ipython2",
   "version": "2.7.9"
  }
 },
 "nbformat": 4,
 "nbformat_minor": 0
}
