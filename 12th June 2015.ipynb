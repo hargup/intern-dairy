{
 "cells": [
  {
   "cell_type": "markdown",
   "metadata": {},
   "source": [
    "## Finalising the Process\n",
    "\n",
    "I'm mostly done with the autocreation, the few things which are left are:\n",
    "\n",
    "* Create the grey list packages\n",
    "* Identify the list of C-libraries which needs to build and build them (If any), potentially I can `conda-recipe`\n",
    "* Save the timestamp of the build and write functionality to build packages which have changed after the timestamp.\n",
    "\n",
    "Today I also plan to make some patches for the `warehouse` project."
   ]
  }
 ],
 "metadata": {
  "kernelspec": {
   "display_name": "Python 3",
   "language": "python",
   "name": "python3"
  },
  "language_info": {
   "codemirror_mode": {
    "name": "ipython",
    "version": 3
   },
   "file_extension": ".py",
   "mimetype": "text/x-python",
   "name": "python",
   "nbconvert_exporter": "python",
   "pygments_lexer": "ipython3",
   "version": "3.4.3"
  }
 },
 "nbformat": 4,
 "nbformat_minor": 0
}
